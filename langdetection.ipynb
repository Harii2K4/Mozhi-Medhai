{
  "cells": [
    {
      "cell_type": "code",
      "execution_count": null,
      "metadata": {
        "colab": {
          "base_uri": "https://localhost:8080/"
        },
        "id": "OHHTKRHwOjti",
        "outputId": "edfc924e-f3e9-447a-8a02-6bc760de249a"
      },
      "outputs": [
        {
          "output_type": "stream",
          "name": "stdout",
          "text": [
            "\u001b[?25l   \u001b[90m━━━━━━━━━━━━━━━━━━━━━━━━━━━━━━━━━━━━━━━━\u001b[0m \u001b[32m0.0/246.1 kB\u001b[0m \u001b[31m?\u001b[0m eta \u001b[36m-:--:--\u001b[0m\r\u001b[2K   \u001b[90m━━━━━━━━━━━━━━━━━━━━━━━━━━━━━━━━━━━━━━━━\u001b[0m \u001b[32m246.1/246.1 kB\u001b[0m \u001b[31m14.1 MB/s\u001b[0m eta \u001b[36m0:00:00\u001b[0m\n",
            "\u001b[2K   \u001b[90m━━━━━━━━━━━━━━━━━━━━━━━━━━━━━━━━━━━━━━━━\u001b[0m \u001b[32m239.0/239.0 kB\u001b[0m \u001b[31m13.2 MB/s\u001b[0m eta \u001b[36m0:00:00\u001b[0m\n",
            "\u001b[2K     \u001b[90m━━━━━━━━━━━━━━━━━━━━━━━━━━━━━━━━━━━━━━━━\u001b[0m \u001b[32m981.5/981.5 kB\u001b[0m \u001b[31m33.0 MB/s\u001b[0m eta \u001b[36m0:00:00\u001b[0m\n",
            "\u001b[?25h  Preparing metadata (setup.py) ... \u001b[?25l\u001b[?25hdone\n",
            "  Building wheel for langdetect (setup.py) ... \u001b[?25l\u001b[?25hdone\n"
          ]
        }
      ],
      "source": [
        "!pip install eyed3 -q\n",
        "!pip install pydub -q\n",
        "!pip install langdetect -q\n"
      ]
    },
    {
      "cell_type": "code",
      "source": [],
      "metadata": {
        "id": "qPWMDl7RmxJS"
      },
      "execution_count": null,
      "outputs": []
    },
    {
      "cell_type": "code",
      "execution_count": null,
      "metadata": {
        "colab": {
          "base_uri": "https://localhost:8080/"
        },
        "id": "Cla-A1LINY1e",
        "outputId": "259cc871-40fc-43c1-9011-18e4420bc224"
      },
      "outputs": [
        {
          "output_type": "stream",
          "name": "stdout",
          "text": [
            "\u001b[2K     \u001b[90m━━━━━━━━━━━━━━━━━━━━━━━━━━━━━━━━━━━━━━━━\u001b[0m \u001b[32m41.3/41.3 MB\u001b[0m \u001b[31m18.4 MB/s\u001b[0m eta \u001b[36m0:00:00\u001b[0m\n",
            "\u001b[?25h  Preparing metadata (setup.py) ... \u001b[?25l\u001b[?25hdone\n",
            "\u001b[2K     \u001b[90m━━━━━━━━━━━━━━━━━━━━━━━━━━━━━━━━━━━━━━━━\u001b[0m \u001b[32m1.9/1.9 MB\u001b[0m \u001b[31m49.9 MB/s\u001b[0m eta \u001b[36m0:00:00\u001b[0m\n",
            "\u001b[?25h  Preparing metadata (setup.py) ... \u001b[?25l\u001b[?25hdone\n",
            "  Building wheel for pyaudioanalysis (setup.py) ... \u001b[?25l\u001b[?25hdone\n",
            "  Building wheel for langid (setup.py) ... \u001b[?25l\u001b[?25hdone\n"
          ]
        }
      ],
      "source": [
        "!pip install pyaudioanalysis langid -q\n",
        "!pip install SpeechRecognition -q\n"
      ]
    },
    {
      "cell_type": "code",
      "execution_count": null,
      "metadata": {
        "colab": {
          "base_uri": "https://localhost:8080/"
        },
        "id": "dxCbqN9FW6bS",
        "outputId": "6152fb1d-75c0-402e-83c6-55ac82935acd"
      },
      "outputs": [
        {
          "output_type": "stream",
          "name": "stdout",
          "text": [
            "\u001b[?25l   \u001b[90m━━━━━━━━━━━━━━━━━━━━━━━━━━━━━━━━━━━━━━━━\u001b[0m \u001b[32m0.0/289.4 kB\u001b[0m \u001b[31m?\u001b[0m eta \u001b[36m-:--:--\u001b[0m\r\u001b[2K   \u001b[90m━━━━━━━━━━━━━━━━━━━━━━━━━━━━━━━━━━━━━━━━\u001b[0m \u001b[32m289.4/289.4 kB\u001b[0m \u001b[31m11.0 MB/s\u001b[0m eta \u001b[36m0:00:00\u001b[0m\n",
            "\u001b[?25h"
          ]
        }
      ],
      "source": [
        "!pip install google-cloud-speech -q"
      ]
    },
    {
      "cell_type": "code",
      "execution_count": null,
      "metadata": {
        "colab": {
          "base_uri": "https://localhost:8080/"
        },
        "id": "5vsyzwkWNstL",
        "outputId": "abce4207-0505-449c-9610-a97b8cd2405f"
      },
      "outputs": [
        {
          "name": "stdout",
          "output_type": "stream",
          "text": [
            "Initial Transcription: you didn't buy that I know the on the Galaxy\n",
            "Detected Language: en\n",
            "Using Language Code: en-US\n",
            "Final Transcription: you didn't buy that I know the on the Galaxy\n",
            "Final Detected Language: en\n"
          ]
        }
      ],
      "source": [
        "import os\n",
        "from pyAudioAnalysis import audioBasicIO\n",
        "from pyAudioAnalysis import ShortTermFeatures\n",
        "from pydub import AudioSegment\n",
        "import speech_recognition as sr\n",
        "from langdetect import detect, DetectorFactory\n",
        "\n",
        "# Ensuring reproducibility\n",
        "DetectorFactory.seed = 0\n",
        "\n",
        "def convert_to_wav(audio_path):\n",
        "    file_name, file_extension = os.path.splitext(audio_path)\n",
        "    if file_extension.lower() != \".wav\":\n",
        "        audio = AudioSegment.from_file(audio_path)\n",
        "        wav_path = f\"{file_name}.wav\"\n",
        "        audio.export(wav_path, format=\"wav\")\n",
        "        return wav_path\n",
        "    return audio_path\n",
        "\n",
        "def transcribe_audio(audio_path, language_code='en-US'):\n",
        "    # Convert to wav if necessary\n",
        "    wav_path = convert_to_wav(audio_path)\n",
        "\n",
        "    # Initialize recognizer\n",
        "    recognizer = sr.Recognizer()\n",
        "\n",
        "    # Load the audio file\n",
        "    with sr.AudioFile(wav_path) as source:\n",
        "        audio_data = recognizer.record(source)\n",
        "\n",
        "    # Transcribe audio to text\n",
        "    try:\n",
        "        text = recognizer.recognize_google(audio_data, language=language_code)\n",
        "        return text\n",
        "    except sr.RequestError:\n",
        "        return \"API unavailable\"\n",
        "    except sr.UnknownValueError:\n",
        "        return \"Unable to recognize speech\"\n",
        "\n",
        "def predict_language_from_text(text):\n",
        "    try:\n",
        "        lang = detect(text)\n",
        "        return lang\n",
        "    except:\n",
        "        return \"Unknown\"\n",
        "\n",
        "def language_code_from_langdetect(lang):\n",
        "    # Map detected language to language codes used by Google Speech Recognition\n",
        "    lang_code_map = {\n",
        "        'en': 'en-US',\n",
        "        'ta': 'ta-IN',\n",
        "        # Add other languages as needed\n",
        "    }\n",
        "    return lang_code_map.get(lang, 'en-US')\n",
        "\n",
        "# Path to the audio file\n",
        "audio_file_path = \"/content/test.wav\"  # Can be any format supported by pydub\n",
        "\n",
        "# Step 1: Initial transcription with a general language model\n",
        "initial_transcription = transcribe_audio(audio_file_path, 'en-US')\n",
        "print(f\"Initial Transcription: {initial_transcription}\")\n",
        "\n",
        "# Step 2: Detect language from the initial transcription\n",
        "detected_language = predict_language_from_text(initial_transcription)\n",
        "print(f\"Detected Language: {detected_language}\")\n",
        "\n",
        "# Step 3: Get the appropriate language code for the detected language\n",
        "language_code = language_code_from_langdetect(detected_language)\n",
        "print(f\"Using Language Code: {language_code}\")\n",
        "\n",
        "# Step 4: Transcribe again using the detected language code\n",
        "final_transcription = transcribe_audio(audio_file_path, language_code)\n",
        "print(f\"Final Transcription: {final_transcription}\")\n",
        "\n",
        "# Optionally, detect language again to confirm\n",
        "final_detected_language = predict_language_from_text(final_transcription)\n",
        "print(f\"Final Detected Language: {final_detected_language}\")\n"
      ]
    },
    {
      "cell_type": "code",
      "execution_count": null,
      "metadata": {
        "colab": {
          "base_uri": "https://localhost:8080/"
        },
        "id": "80F9_bbtNs17",
        "outputId": "82ce424c-eed3-4dc7-c279-dffa6f909489"
      },
      "outputs": [
        {
          "name": "stdout",
          "output_type": "stream",
          "text": [
            "Detected language: id\n",
            "Detected language for Tamil text: ta\n"
          ]
        }
      ],
      "source": [
        "from langdetect import detect, DetectorFactory\n",
        "\n",
        "# Ensuring reproducibility\n",
        "DetectorFactory.seed = 0\n",
        "\n",
        "def detect_language(text):\n",
        "    try:\n",
        "        lang = detect(text)\n",
        "        return lang\n",
        "    except:\n",
        "        return \"Unknown\"\n",
        "\n",
        "# Example usage\n",
        "text = \"Vanakam en peyar\"\n",
        "detected_language = detect_language(text)\n",
        "print(f\"Detected language: {detected_language}\")\n",
        "\n",
        "# Another example with Tamil text\n",
        "tamil_text = \"இது ஒரு எடுத்துக்காட்டு உர\"\n",
        "tamil_detected_language = detect_language(tamil_text)\n",
        "print(f\"Detected language for Tamil text: {tamil_detected_language}\")\n"
      ]
    },
    {
      "cell_type": "code",
      "execution_count": null,
      "metadata": {
        "colab": {
          "base_uri": "https://localhost:8080/"
        },
        "id": "55ryAfy1Ns-y",
        "outputId": "3dfa8251-f6f1-4e1c-9e1c-bf0e0ea200d0"
      },
      "outputs": [
        {
          "output_type": "stream",
          "name": "stdout",
          "text": [
            "{'en-US': 0.8541616797447205}\n"
          ]
        }
      ],
      "source": [
        "from typing import List\n",
        "from google.cloud.speech_v2 import SpeechClient\n",
        "from google.cloud.speech_v2.types import cloud_speech\n",
        "\n",
        "def transcribe_multiple_languages_v2(\n",
        "    project_id: str,\n",
        "    language_codes: List[str],\n",
        "    audio_file: str,\n",
        ") -> cloud_speech.RecognizeResponse:\n",
        "    \"\"\"Transcribe an audio file in multiple languages.\"\"\"\n",
        "    client = SpeechClient()\n",
        "    lang={}\n",
        "\n",
        "    with open(audio_file, \"rb\") as f:\n",
        "        content = f.read()\n",
        "\n",
        "    for i in language_codes:\n",
        "     config = cloud_speech.RecognitionConfig(\n",
        "        auto_decoding_config=cloud_speech.AutoDetectDecodingConfig(),\n",
        "        language_codes=[i],  # This should now correctly use all specified languages\n",
        "        model=\"latest_long\",\n",
        "    )\n",
        "     request = cloud_speech.RecognizeRequest(\n",
        "         recognizer=f\"projects/{project_id}/locations/global/recognizers/_\",\n",
        "        config=config,\n",
        "        content=content,\n",
        "    )\n",
        "     response = client.recognize(request=request)\n",
        "     for j, result in enumerate(response.results):\n",
        "        lang[i] = result.alternatives[0].confidence\n",
        "\n",
        "\n",
        "\n",
        "\n",
        "    return lang\n",
        "\n",
        "# Usage\n",
        "response = transcribe_multiple_languages_v2(\n",
        "    \"speech-to-speech-hackathon\",\n",
        "    [\"en-US\", \"ta-IN\",'fr-FR','ko-KR'],\n",
        "    \"/content/sample-2.mp3\"\n",
        ")\n",
        "print(response)"
      ]
    },
    {
      "cell_type": "code",
      "execution_count": null,
      "metadata": {
        "colab": {
          "base_uri": "https://localhost:8080/"
        },
        "id": "oeKJ3gRBm1dE",
        "outputId": "20d6eb01-7bf8-4356-e788-f18124cd43f4"
      },
      "outputs": [
        {
          "name": "stdout",
          "output_type": "stream",
          "text": [
            "metadata {\n",
            "  total_billed_duration {\n",
            "    seconds: 11\n",
            "  }\n",
            "}\n",
            "results {\n",
            "  alternatives {\n",
            "    transcript: \"hidden diet\"\n",
            "    confidence: 0.09283457696437836\n",
            "  }\n",
            "  result_end_offset {\n",
            "    seconds: 10\n",
            "    nanos: 210000000\n",
            "  }\n",
            "  language_code: \"en-US\"\n",
            "}\n",
            "\n"
          ]
        }
      ],
      "source": [
        "print (response)"
      ]
    },
    {
      "cell_type": "code",
      "source": [
        "max_key = max(response, key=response.get)\n",
        "max_key"
      ],
      "metadata": {
        "colab": {
          "base_uri": "https://localhost:8080/",
          "height": 35
        },
        "id": "hjHBxFJL3Zcd",
        "outputId": "3873b613-c039-499c-aef8-eb4ddc4ddab8"
      },
      "execution_count": null,
      "outputs": [
        {
          "output_type": "execute_result",
          "data": {
            "text/plain": [
              "'ta-IN'"
            ],
            "application/vnd.google.colaboratory.intrinsic+json": {
              "type": "string"
            }
          },
          "metadata": {},
          "execution_count": 21
        }
      ]
    },
    {
      "cell_type": "code",
      "execution_count": null,
      "metadata": {
        "colab": {
          "base_uri": "https://localhost:8080/"
        },
        "id": "tBBiW4DKXuU2",
        "outputId": "c959922c-beea-4aae-f75a-dd5f0c029167"
      },
      "outputs": [
        {
          "output_type": "stream",
          "name": "stdout",
          "text": [
            "Reading package lists... Done\n",
            "Building dependency tree... Done\n",
            "Reading state information... Done\n",
            "E: Unable to locate package google-cloud-cli\n",
            "Go to the following link in your browser, and complete the sign-in prompts:\n",
            "\n",
            "    https://accounts.google.com/o/oauth2/auth?response_type=code&client_id=32555940559.apps.googleusercontent.com&redirect_uri=https%3A%2F%2Fsdk.cloud.google.com%2Fauthcode.html&scope=openid+https%3A%2F%2Fwww.googleapis.com%2Fauth%2Fuserinfo.email+https%3A%2F%2Fwww.googleapis.com%2Fauth%2Fcloud-platform+https%3A%2F%2Fwww.googleapis.com%2Fauth%2Fappengine.admin+https%3A%2F%2Fwww.googleapis.com%2Fauth%2Fsqlservice.login+https%3A%2F%2Fwww.googleapis.com%2Fauth%2Fcompute+https%3A%2F%2Fwww.googleapis.com%2Fauth%2Faccounts.reauth&state=fiL8X2Yp6jyORCH4Fe9LcCO1hB9rVG&prompt=consent&token_usage=remote&access_type=offline&code_challenge=bhbzNBQFoz-dkPSCiVbX4JjfEZdobs_qsHrKDBLGgMM&code_challenge_method=S256\n",
            "\n",
            "Once finished, enter the verification code provided in your browser: 4/0AcvDMrD1y5ZjoS9prN81dHLP77x-qdVb19kE_fV_auA5NvOqOnXlaFEu_vrm5JN2dJIvcg\n",
            "\n",
            "You are now logged in as [harikishan2k4@gmail.com].\n",
            "Your current project is [None].  You can change this setting by running:\n",
            "  $ gcloud config set project PROJECT_ID\n",
            "Go to the following link in your browser, and complete the sign-in prompts:\n",
            "\n",
            "    https://accounts.google.com/o/oauth2/auth?response_type=code&client_id=764086051850-6qr4p6gpi6hn506pt8ejuq83di341hur.apps.googleusercontent.com&redirect_uri=https%3A%2F%2Fsdk.cloud.google.com%2Fapplicationdefaultauthcode.html&scope=openid+https%3A%2F%2Fwww.googleapis.com%2Fauth%2Fuserinfo.email+https%3A%2F%2Fwww.googleapis.com%2Fauth%2Fcloud-platform+https%3A%2F%2Fwww.googleapis.com%2Fauth%2Fsqlservice.login&state=0YUTF8SixLND87CjJXyOCeQDE6IerY&prompt=consent&token_usage=remote&access_type=offline&code_challenge=1P0DuDUm_LsGkvueU61Mz4whMDGdILG9Q4qf-EPtawY&code_challenge_method=S256\n",
            "\n",
            "Once finished, enter the verification code provided in your browser: 4/0AcvDMrAxBGSHOOiws-HEk3YFNbHhAwgUAiB4HDUb1TDjsSoWdEGenoZAHcG2Im2z9D7WBg\n",
            "\n",
            "Credentials saved to file: [/content/.config/application_default_credentials.json]\n",
            "\n",
            "These credentials will be used by any library that requests Application Default Credentials (ADC).\n",
            "\u001b[1;33mWARNING:\u001b[0m \n",
            "Cannot find a quota project to add to ADC. You might receive a \"quota exceeded\" or \"API not enabled\" error. Run $ gcloud auth application-default set-quota-project to add a quota project.\n"
          ]
        }
      ],
      "source": [
        "!apt-get install -y google-cloud-cli\n",
        "!gcloud auth login\n",
        "!gcloud auth application-default login"
      ]
    },
    {
      "cell_type": "code",
      "execution_count": null,
      "metadata": {
        "colab": {
          "base_uri": "https://localhost:8080/"
        },
        "id": "hK3L7JQJYPCs",
        "outputId": "949ef486-a7b9-47e4-dad0-70b0d1a9d6d0"
      },
      "outputs": [
        {
          "name": "stdout",
          "output_type": "stream",
          "text": [
            "\u001b[1;33mWARNING:\u001b[0m Your active project does not match the quota project in your local Application Default Credentials file. This might result in unexpected quota issues.\n",
            "\n",
            "To update your Application Default Credentials quota project, use the `gcloud auth application-default set-quota-project` command.\n",
            "Updated property [core/project].\n"
          ]
        }
      ],
      "source": [
        "!gcloud config set project speech-to-speech-hackathon"
      ]
    },
    {
      "cell_type": "code",
      "execution_count": null,
      "metadata": {
        "colab": {
          "base_uri": "https://localhost:8080/"
        },
        "id": "JlCqoMcsYn2n",
        "outputId": "fea2ef6e-300d-4117-f3a6-4c095b8808df"
      },
      "outputs": [
        {
          "output_type": "stream",
          "name": "stdout",
          "text": [
            "\n",
            "Credentials saved to file: [/content/.config/application_default_credentials.json]\n",
            "\n",
            "These credentials will be used by any library that requests Application Default Credentials (ADC).\n",
            "\n",
            "Quota project \"speech-to-speech-hackathon\" was added to ADC which can be used by Google client libraries for billing and quota. Note that some services may still bill the project owning the resource.\n"
          ]
        }
      ],
      "source": [
        "!gcloud auth application-default set-quota-project speech-to-speech-hackathon"
      ]
    }
  ],
  "metadata": {
    "colab": {
      "provenance": []
    },
    "kernelspec": {
      "display_name": "Python 3",
      "name": "python3"
    },
    "language_info": {
      "name": "python"
    }
  },
  "nbformat": 4,
  "nbformat_minor": 0
}